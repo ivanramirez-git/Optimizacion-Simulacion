{
 "cells": [
  {
   "cell_type": "code",
   "execution_count": 26,
   "metadata": {},
   "outputs": [
    {
     "name": "stdout",
     "output_type": "stream",
     "text": [
      "Welcome to the CBC MILP Solver \n",
      "Version: 2.10.3 \n",
      "Build Date: Dec 15 2019 \n",
      "\n",
      "command line - /Users/ivanramirez/Documents/Javeriana/Optimización y Simulación /venv/lib/python3.9/site-packages/pulp/solverdir/cbc/osx/64/cbc /var/folders/z2/zx1zd8x96zl5yds5w6w3zsth0000gn/T/08cda2f364ee4499b15b4b818cc26193-pulp.mps max timeMode elapsed branch printingOptions all solution /var/folders/z2/zx1zd8x96zl5yds5w6w3zsth0000gn/T/08cda2f364ee4499b15b4b818cc26193-pulp.sol (default strategy 1)\n",
      "At line 2 NAME          MODEL\n",
      "At line 3 ROWS\n",
      "At line 35 COLUMNS\n",
      "At line 141 RHS\n",
      "At line 172 BOUNDS\n",
      "At line 173 ENDATA\n",
      "Problem MODEL has 30 rows, 35 columns and 90 elements\n",
      "Coin0008I MODEL read with 0 errors\n",
      "Option for timeMode changed from cpu to elapsed\n",
      "Presolve thinks problem is unbounded\n",
      "Analysis indicates model infeasible or unbounded\n",
      "Perturbing problem by 0.001% of 1 - largest nonzero change 1.7802805e-07 ( 1.7802805e-05%) - largest zero change 1.6426316e-07\n",
      "0  Obj -0 Dual inf 4.9999987 (5)\n",
      "0  Obj -0 Dual iUnbounded\n",
      "nf 4.9999995 (5)\n",
      "5  Obj -0 Dual inf 4.9999995 (5)\n",
      "5  Obj -0 Dual inf 4.9999995 (5)\n",
      "Dual infeasible - objective value -0\n",
      "DualInfeasible objective -0 - 5 iterations time 0.002\n",
      "\n",
      "Result - Linear relaxation unbounded\n",
      "\n",
      "Enumerated nodes:           0\n",
      "Total iterations:           0\n",
      "Time (CPU seconds):         0.00\n",
      "Time (Wallclock Seconds):   0.00\n",
      "\n",
      "Option for printingOptions changed from normal to all\n",
      "Total time (CPU seconds):       0.00   (Wallclock seconds):       0.00\n",
      "\n"
     ]
    }
   ],
   "source": [
    "# pip install pulp\n",
    "from pulp import *\n",
    "\n",
    "Nodos = list(range(0, 6))\n",
    "\n",
    "Cap = [\n",
    "    [ 0,  25 , 100 , 70 ,  0 ,   0 ],\n",
    "    [ 0,   0 ,  30 ,  0 , 15 ,   0 ],\n",
    "    [ 0,   0 ,   0 ,  0 ,  0 , 200 ],\n",
    "    [ 0,   0 ,  60 ,  0 ,  0 ,  30 ],\n",
    "    [ 0,   0 ,   0 ,  0 ,  0 , 150 ],\n",
    "    [ 0,   0 ,   0 ,  0 ,  0 ,   0 ],\n",
    "]\n",
    "\n",
    "problema_fm = LpProblem(\"FlujoMaximo\", LpMaximize)\n",
    "\n",
    "# Paso 6. Creamos las variables de decisión\n",
    "var_cant= LpVariable.dicts(\"X\", (Nodos, Nodos), lowBound=0, cat='Continuous')\n",
    "\n",
    "# Paso 7. Creamos la función objetivo\n",
    "\n",
    "problema_fm += lpSum(var_cant[0][i] for i in Nodos[1:])\n",
    "for i in Nodos[1:]:\n",
    "    for j in Nodos[1:]:\n",
    "        problema_fm += lpSum(var_cant[i][j]) - lpSum(var_cant[j][i]) == 0\n",
    "        \n",
    "# Balance de flujo\n",
    "for k in Nodos[1:]:\n",
    "    problema_fm += lpSum(var_cant[i][k] for i in Nodos) - lpSum(var_cant[k][j] for j in Nodos) == 0\n",
    "    \n",
    "status = problema_fm.solve()\n",
    "print(LpStatus[problema_fm.status])\n",
    "\n",
    "# imprimir la solución\n",
    "for v in problema_fm.variables():\n",
    "    if v.varValue > 0:\n",
    "        print(v.name, \"=\", v.varValue)"
   ]
  }
 ],
 "metadata": {
  "kernelspec": {
   "display_name": "venv",
   "language": "python",
   "name": "python3"
  },
  "language_info": {
   "codemirror_mode": {
    "name": "ipython",
    "version": 3
   },
   "file_extension": ".py",
   "mimetype": "text/x-python",
   "name": "python",
   "nbconvert_exporter": "python",
   "pygments_lexer": "ipython3",
   "version": "3.9.6"
  },
  "orig_nbformat": 4
 },
 "nbformat": 4,
 "nbformat_minor": 2
}
